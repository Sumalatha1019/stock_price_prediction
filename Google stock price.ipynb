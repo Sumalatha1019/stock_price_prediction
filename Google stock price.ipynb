{
 "cells": [
  {
   "cell_type": "code",
   "execution_count": 1,
   "metadata": {},
   "outputs": [],
   "source": [
    "import numpy as np \n",
    "import pandas as pd \n",
    "import matplotlib.pyplot as plt \n",
    "from sklearn.preprocessing import MinMaxScaler\n",
    "from keras.models import Sequential\n",
    "from keras.layers import Dense,LSTM,Dropout"
   ]
  },
  {
   "cell_type": "code",
   "execution_count": 2,
   "metadata": {},
   "outputs": [
    {
     "data": {
      "text/html": [
       "<div>\n",
       "<style scoped>\n",
       "    .dataframe tbody tr th:only-of-type {\n",
       "        vertical-align: middle;\n",
       "    }\n",
       "\n",
       "    .dataframe tbody tr th {\n",
       "        vertical-align: top;\n",
       "    }\n",
       "\n",
       "    .dataframe thead th {\n",
       "        text-align: right;\n",
       "    }\n",
       "</style>\n",
       "<table border=\"1\" class=\"dataframe\">\n",
       "  <thead>\n",
       "    <tr style=\"text-align: right;\">\n",
       "      <th></th>\n",
       "      <th>Date</th>\n",
       "      <th>Open</th>\n",
       "      <th>High</th>\n",
       "      <th>Low</th>\n",
       "      <th>Close</th>\n",
       "      <th>Volume</th>\n",
       "    </tr>\n",
       "  </thead>\n",
       "  <tbody>\n",
       "    <tr>\n",
       "      <th>0</th>\n",
       "      <td>1/3/2012</td>\n",
       "      <td>325.25</td>\n",
       "      <td>332.83</td>\n",
       "      <td>324.97</td>\n",
       "      <td>663.59</td>\n",
       "      <td>7,380,500</td>\n",
       "    </tr>\n",
       "    <tr>\n",
       "      <th>1</th>\n",
       "      <td>1/4/2012</td>\n",
       "      <td>331.27</td>\n",
       "      <td>333.87</td>\n",
       "      <td>329.08</td>\n",
       "      <td>666.45</td>\n",
       "      <td>5,749,400</td>\n",
       "    </tr>\n",
       "    <tr>\n",
       "      <th>2</th>\n",
       "      <td>1/5/2012</td>\n",
       "      <td>329.83</td>\n",
       "      <td>330.75</td>\n",
       "      <td>326.89</td>\n",
       "      <td>657.21</td>\n",
       "      <td>6,590,300</td>\n",
       "    </tr>\n",
       "    <tr>\n",
       "      <th>3</th>\n",
       "      <td>1/6/2012</td>\n",
       "      <td>328.34</td>\n",
       "      <td>328.77</td>\n",
       "      <td>323.68</td>\n",
       "      <td>648.24</td>\n",
       "      <td>5,405,900</td>\n",
       "    </tr>\n",
       "    <tr>\n",
       "      <th>4</th>\n",
       "      <td>1/9/2012</td>\n",
       "      <td>322.04</td>\n",
       "      <td>322.29</td>\n",
       "      <td>309.46</td>\n",
       "      <td>620.76</td>\n",
       "      <td>11,688,800</td>\n",
       "    </tr>\n",
       "  </tbody>\n",
       "</table>\n",
       "</div>"
      ],
      "text/plain": [
       "       Date    Open    High     Low   Close      Volume\n",
       "0  1/3/2012  325.25  332.83  324.97  663.59   7,380,500\n",
       "1  1/4/2012  331.27  333.87  329.08  666.45   5,749,400\n",
       "2  1/5/2012  329.83  330.75  326.89  657.21   6,590,300\n",
       "3  1/6/2012  328.34  328.77  323.68  648.24   5,405,900\n",
       "4  1/9/2012  322.04  322.29  309.46  620.76  11,688,800"
      ]
     },
     "execution_count": 2,
     "metadata": {},
     "output_type": "execute_result"
    }
   ],
   "source": [
    "data = pd.read_csv('Google_train_data.csv')\n",
    "data.head()"
   ]
  },
  {
   "cell_type": "code",
   "execution_count": 3,
   "metadata": {},
   "outputs": [
    {
     "name": "stdout",
     "output_type": "stream",
     "text": [
      "<class 'pandas.core.frame.DataFrame'>\n",
      "RangeIndex: 1258 entries, 0 to 1257\n",
      "Data columns (total 6 columns):\n",
      " #   Column  Non-Null Count  Dtype  \n",
      "---  ------  --------------  -----  \n",
      " 0   Date    1258 non-null   object \n",
      " 1   Open    1258 non-null   float64\n",
      " 2   High    1258 non-null   float64\n",
      " 3   Low     1258 non-null   float64\n",
      " 4   Close   1258 non-null   object \n",
      " 5   Volume  1258 non-null   object \n",
      "dtypes: float64(3), object(3)\n",
      "memory usage: 59.1+ KB\n"
     ]
    }
   ],
   "source": [
    "data.info()"
   ]
  },
  {
   "cell_type": "code",
   "execution_count": 4,
   "metadata": {},
   "outputs": [],
   "source": [
    "data[\"Close\"]=pd.to_numeric(data.Close,errors='coerce')\n",
    "data = data.dropna()\n",
    "trainData = data.iloc[:,4:5].values"
   ]
  },
  {
   "cell_type": "code",
   "execution_count": 5,
   "metadata": {},
   "outputs": [
    {
     "name": "stdout",
     "output_type": "stream",
     "text": [
      "<class 'pandas.core.frame.DataFrame'>\n",
      "Int64Index: 1149 entries, 0 to 1257\n",
      "Data columns (total 6 columns):\n",
      " #   Column  Non-Null Count  Dtype  \n",
      "---  ------  --------------  -----  \n",
      " 0   Date    1149 non-null   object \n",
      " 1   Open    1149 non-null   float64\n",
      " 2   High    1149 non-null   float64\n",
      " 3   Low     1149 non-null   float64\n",
      " 4   Close   1149 non-null   float64\n",
      " 5   Volume  1149 non-null   object \n",
      "dtypes: float64(4), object(2)\n",
      "memory usage: 62.8+ KB\n"
     ]
    }
   ],
   "source": [
    "data.info()"
   ]
  },
  {
   "cell_type": "code",
   "execution_count": 6,
   "metadata": {},
   "outputs": [
    {
     "data": {
      "text/plain": [
       "(1149, 1)"
      ]
     },
     "execution_count": 6,
     "metadata": {},
     "output_type": "execute_result"
    }
   ],
   "source": [
    "sc = MinMaxScaler(feature_range=(0,1))\n",
    "trainData = sc.fit_transform(trainData)\n",
    "trainData.shape"
   ]
  },
  {
   "cell_type": "code",
   "execution_count": 7,
   "metadata": {},
   "outputs": [],
   "source": [
    "X_train = []\n",
    "y_train = []\n",
    "\n",
    "for i in range (60,1149): #60 : timestep // 1149 : length of the data\n",
    "    X_train.append(trainData[i-60:i,0]) \n",
    "    y_train.append(trainData[i,0])\n",
    "\n",
    "X_train,y_train = np.array(X_train),np.array(y_train)"
   ]
  },
  {
   "cell_type": "code",
   "execution_count": 8,
   "metadata": {},
   "outputs": [
    {
     "data": {
      "text/plain": [
       "(1089, 60, 1)"
      ]
     },
     "execution_count": 8,
     "metadata": {},
     "output_type": "execute_result"
    }
   ],
   "source": [
    "X_train = np.reshape(X_train,(X_train.shape[0],X_train.shape[1],1)) #adding the batch_size axis\n",
    "X_train.shape"
   ]
  },
  {
   "cell_type": "code",
   "execution_count": 9,
   "metadata": {},
   "outputs": [],
   "source": [
    "model = Sequential()\n",
    "\n",
    "model.add(LSTM(units=100, return_sequences = True, input_shape =(X_train.shape[1],1)))\n",
    "model.add(Dropout(0.2))\n",
    "\n",
    "model.add(LSTM(units=100, return_sequences = True))\n",
    "model.add(Dropout(0.2))\n",
    "\n",
    "model.add(LSTM(units=100, return_sequences = True))\n",
    "model.add(Dropout(0.2))\n",
    "\n",
    "model.add(LSTM(units=100, return_sequences = False))\n",
    "model.add(Dropout(0.2))\n",
    "\n",
    "model.add(Dense(units =1))\n",
    "model.compile(optimizer='adam',loss=\"mean_squared_error\")"
   ]
  },
  {
   "cell_type": "code",
   "execution_count": 10,
   "metadata": {},
   "outputs": [
    {
     "name": "stdout",
     "output_type": "stream",
     "text": [
      "Epoch 1/20\n",
      "35/35 - 10s - loss: 0.0330 - 10s/epoch - 292ms/step\n",
      "Epoch 2/20\n",
      "35/35 - 4s - loss: 0.0099 - 4s/epoch - 123ms/step\n",
      "Epoch 3/20\n",
      "35/35 - 4s - loss: 0.0119 - 4s/epoch - 128ms/step\n",
      "Epoch 4/20\n",
      "35/35 - 5s - loss: 0.0102 - 5s/epoch - 138ms/step\n",
      "Epoch 5/20\n",
      "35/35 - 5s - loss: 0.0092 - 5s/epoch - 144ms/step\n",
      "Epoch 6/20\n",
      "35/35 - 5s - loss: 0.0102 - 5s/epoch - 136ms/step\n",
      "Epoch 7/20\n",
      "35/35 - 5s - loss: 0.0077 - 5s/epoch - 144ms/step\n",
      "Epoch 8/20\n",
      "35/35 - 5s - loss: 0.0065 - 5s/epoch - 137ms/step\n",
      "Epoch 9/20\n",
      "35/35 - 5s - loss: 0.0071 - 5s/epoch - 136ms/step\n",
      "Epoch 10/20\n",
      "35/35 - 5s - loss: 0.0064 - 5s/epoch - 134ms/step\n",
      "Epoch 11/20\n",
      "35/35 - 5s - loss: 0.0066 - 5s/epoch - 135ms/step\n",
      "Epoch 12/20\n",
      "35/35 - 5s - loss: 0.0054 - 5s/epoch - 132ms/step\n",
      "Epoch 13/20\n",
      "35/35 - 5s - loss: 0.0054 - 5s/epoch - 129ms/step\n",
      "Epoch 14/20\n",
      "35/35 - 5s - loss: 0.0056 - 5s/epoch - 133ms/step\n",
      "Epoch 15/20\n",
      "35/35 - 5s - loss: 0.0057 - 5s/epoch - 129ms/step\n",
      "Epoch 16/20\n",
      "35/35 - 5s - loss: 0.0048 - 5s/epoch - 135ms/step\n",
      "Epoch 17/20\n",
      "35/35 - 5s - loss: 0.0063 - 5s/epoch - 132ms/step\n",
      "Epoch 18/20\n",
      "35/35 - 5s - loss: 0.0045 - 5s/epoch - 133ms/step\n",
      "Epoch 19/20\n",
      "35/35 - 5s - loss: 0.0055 - 5s/epoch - 131ms/step\n",
      "Epoch 20/20\n",
      "35/35 - 4s - loss: 0.0044 - 4s/epoch - 128ms/step\n"
     ]
    }
   ],
   "source": [
    "hist = model.fit(X_train, y_train, epochs = 20, batch_size = 32, verbose=2)"
   ]
  },
  {
   "cell_type": "code",
   "execution_count": 11,
   "metadata": {},
   "outputs": [
    {
     "data": {
      "image/png": "[encoded data removed]",
      "text/plain": [
       "<Figure size 432x288 with 1 Axes>"
      ]
     },
     "metadata": {
      "needs_background": "light"
     },
     "output_type": "display_data"
    }
   ],
   "source": [
    "plt.plot(hist.history['loss'])\n",
    "plt.title('Training model loss')\n",
    "plt.ylabel('loss')\n",
    "plt.xlabel('epoch')\n",
    "plt.legend(['train'], loc='upper left')\n",
    "plt.show()"
   ]
  },
  {
   "cell_type": "code",
   "execution_count": 12,
   "metadata": {},
   "outputs": [
    {
     "data": {
      "text/plain": [
       "(192, 60, 1)"
      ]
     },
     "execution_count": 12,
     "metadata": {},
     "output_type": "execute_result"
    }
   ],
   "source": [
    "testData = pd.read_csv('Google_test_data.csv')\n",
    "testData[\"Close\"]=pd.to_numeric(testData.Close,errors='coerce')\n",
    "testData = testData.dropna()\n",
    "testData = testData.iloc[:,4:5]\n",
    "y_test = testData.iloc[60:,0:].values \n",
    "#input array for the model\n",
    "inputClosing = testData.iloc[:,0:].values \n",
    "inputClosing_scaled = sc.transform(inputClosing)\n",
    "inputClosing_scaled.shape\n",
    "X_test = []\n",
    "length = len(testData)\n",
    "timestep = 60\n",
    "for i in range(timestep,length):  \n",
    "    X_test.append(inputClosing_scaled[i-timestep:i,0])\n",
    "X_test = np.array(X_test)\n",
    "X_test = np.reshape(X_test,(X_test.shape[0],X_test.shape[1],1))\n",
    "X_test.shape"
   ]
  },
  {
   "cell_type": "code",
   "execution_count": 13,
   "metadata": {},
   "outputs": [
    {
     "name": "stdout",
     "output_type": "stream",
     "text": [
      "6/6 [==============================] - 2s 35ms/step\n"
     ]
    },
    {
     "data": {
      "text/plain": [
       "array([[1.1656897],\n",
       "       [1.168223 ],\n",
       "       [1.1797763],\n",
       "       [1.1969076],\n",
       "       [1.2099544],\n",
       "       [1.208378 ],\n",
       "       [1.1936084],\n",
       "       [1.1746385],\n",
       "       [1.1633434],\n",
       "       [1.1613839],\n",
       "       [1.1556636],\n",
       "       [1.145171 ],\n",
       "       [1.1358037],\n",
       "       [1.1271726],\n",
       "       [1.1259836],\n",
       "       [1.1312929],\n",
       "       [1.1502951],\n",
       "       [1.1793033],\n",
       "       [1.2114602],\n",
       "       [1.2423652],\n",
       "       [1.2524711],\n",
       "       [1.2461666],\n",
       "       [1.2232969],\n",
       "       [1.1930209],\n",
       "       [1.1673164],\n",
       "       [1.1543045],\n",
       "       [1.1532663],\n",
       "       [1.1549431],\n",
       "       [1.1488594],\n",
       "       [1.1383997],\n",
       "       [1.1265715],\n",
       "       [1.1131119],\n",
       "       [1.0929376],\n",
       "       [1.0682844],\n",
       "       [1.0593325],\n",
       "       [1.0706044],\n",
       "       [1.0939795],\n",
       "       [1.1193093],\n",
       "       [1.142152 ],\n",
       "       [1.1521105],\n",
       "       [1.1624197],\n",
       "       [1.1758901],\n",
       "       [1.1922494],\n",
       "       [1.2075359],\n",
       "       [1.2174524],\n",
       "       [1.2176361],\n",
       "       [1.2067138],\n",
       "       [1.1976163],\n",
       "       [1.1958852],\n",
       "       [1.2029229],\n",
       "       [1.2171713],\n",
       "       [1.2264649],\n",
       "       [1.2286924],\n",
       "       [1.2251798],\n",
       "       [1.2232884],\n",
       "       [1.2195463],\n",
       "       [1.2112813],\n",
       "       [1.2075588],\n",
       "       [1.2173709],\n",
       "       [1.2361687],\n",
       "       [1.2624594],\n",
       "       [1.2932061],\n",
       "       [1.3133092],\n",
       "       [1.3145822],\n",
       "       [1.3003278],\n",
       "       [1.2789835],\n",
       "       [1.2651472],\n",
       "       [1.2617859],\n",
       "       [1.2665918],\n",
       "       [1.2730263],\n",
       "       [1.2790225],\n",
       "       [1.2822374],\n",
       "       [1.2781283],\n",
       "       [1.2721363],\n",
       "       [1.2672306],\n",
       "       [1.2660431],\n",
       "       [1.2684016],\n",
       "       [1.2736746],\n",
       "       [1.2856127],\n",
       "       [1.3033036],\n",
       "       [1.3257921],\n",
       "       [1.34669  ],\n",
       "       [1.3575095],\n",
       "       [1.3575463],\n",
       "       [1.3597597],\n",
       "       [1.3714706],\n",
       "       [1.38921  ],\n",
       "       [1.404447 ],\n",
       "       [1.4128488],\n",
       "       [1.4143472],\n",
       "       [1.4153153],\n",
       "       [1.4245577],\n",
       "       [1.4418983],\n",
       "       [1.4535568],\n",
       "       [1.4522117],\n",
       "       [1.4386163],\n",
       "       [1.4162835],\n",
       "       [1.3913332],\n",
       "       [1.3712983],\n",
       "       [1.3652992],\n",
       "       [1.3734242],\n",
       "       [1.3909588],\n",
       "       [1.4132897],\n",
       "       [1.4319547],\n",
       "       [1.4423755],\n",
       "       [1.4430457],\n",
       "       [1.4385573],\n",
       "       [1.4333276],\n",
       "       [1.4332074],\n",
       "       [1.4385724],\n",
       "       [1.4481807],\n",
       "       [1.4611982],\n",
       "       [1.474023 ],\n",
       "       [1.4873745],\n",
       "       [1.5037252],\n",
       "       [1.5171843],\n",
       "       [1.5271355],\n",
       "       [1.5355734],\n",
       "       [1.5466017],\n",
       "       [1.5278041],\n",
       "       [1.4798044],\n",
       "       [1.4201455],\n",
       "       [1.373119 ],\n",
       "       [1.3484242],\n",
       "       [1.3399475],\n",
       "       [1.33942  ],\n",
       "       [1.3412908],\n",
       "       [1.3442211],\n",
       "       [1.3387257],\n",
       "       [1.3232762],\n",
       "       [1.3157831],\n",
       "       [1.3241475],\n",
       "       [1.3391879],\n",
       "       [1.3469537],\n",
       "       [1.3481511],\n",
       "       [1.3460976],\n",
       "       [1.3403585],\n",
       "       [1.3308479],\n",
       "       [1.3203768],\n",
       "       [1.3067187],\n",
       "       [1.2926571],\n",
       "       [1.2773281],\n",
       "       [1.2451597],\n",
       "       [1.2064644],\n",
       "       [1.1693606],\n",
       "       [1.1412274],\n",
       "       [1.1304603],\n",
       "       [1.1392885],\n",
       "       [1.16074  ],\n",
       "       [1.1853887],\n",
       "       [1.209359 ],\n",
       "       [1.2281686],\n",
       "       [1.2417812],\n",
       "       [1.2531718],\n",
       "       [1.2620722],\n",
       "       [1.2701582],\n",
       "       [1.2796452],\n",
       "       [1.2874366],\n",
       "       [1.2839679],\n",
       "       [1.2688836],\n",
       "       [1.2472231],\n",
       "       [1.2268726],\n",
       "       [1.2167245],\n",
       "       [1.2207223],\n",
       "       [1.23737  ],\n",
       "       [1.2622858],\n",
       "       [1.2838727],\n",
       "       [1.2991706],\n",
       "       [1.3119102],\n",
       "       [1.3234116],\n",
       "       [1.3328282],\n",
       "       [1.3405042],\n",
       "       [1.3466972],\n",
       "       [1.3488498],\n",
       "       [1.3470999],\n",
       "       [1.3384652],\n",
       "       [1.3278314],\n",
       "       [1.3209784],\n",
       "       [1.3167554],\n",
       "       [1.31277  ],\n",
       "       [1.3414499],\n",
       "       [1.3942083],\n",
       "       [1.4469975],\n",
       "       [1.4819832],\n",
       "       [1.4935734],\n",
       "       [1.4830785],\n",
       "       [1.4483796],\n",
       "       [1.4079549],\n",
       "       [1.3753737],\n",
       "       [1.3644754],\n",
       "       [1.3678337],\n",
       "       [1.3737537]], dtype=float32)"
      ]
     },
     "execution_count": 13,
     "metadata": {},
     "output_type": "execute_result"
    }
   ],
   "source": [
    "y_pred = model.predict(X_test)\n",
    "y_pred"
   ]
  },
  {
   "cell_type": "code",
   "execution_count": 14,
   "metadata": {},
   "outputs": [],
   "source": [
    "predicted_price = sc.inverse_transform(y_pred)"
   ]
  },
  {
   "cell_type": "code",
   "execution_count": 15,
   "metadata": {},
   "outputs": [
    {
     "data": {
      "image/png": "[encoded data removed]",
      "text/plain": [
       "<Figure size 432x288 with 1 Axes>"
      ]
     },
     "metadata": {
      "needs_background": "light"
     },
     "output_type": "display_data"
    }
   ],
   "source": [
    "plt.plot(y_test, color = 'red', label = 'Actual Stock Price')\n",
    "plt.plot(predicted_price, color = 'green', label = 'Predicted Stock Price')\n",
    "plt.title('Google stock price prediction')\n",
    "plt.xlabel('Time')\n",
    "plt.ylabel('Stock Price')\n",
    "plt.legend()\n",
    "plt.show()"
   ]
  }
 ],
 "metadata": {
  "kernelspec": {
   "display_name": "Python 3 (ipykernel)",
   "language": "python",
   "name": "python3"
  },
  "language_info": {
   "codemirror_mode": {
    "name": "ipython",
    "version": 3
   },
   "file_extension": ".py",
   "mimetype": "text/x-python",
   "name": "python",
   "nbconvert_exporter": "python",
   "pygments_lexer": "ipython3",
   "version": "3.9.7"
  }
 },
 "nbformat": 4,
 "nbformat_minor": 4
}
